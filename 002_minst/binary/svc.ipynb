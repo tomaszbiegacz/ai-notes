{
 "cells": [
  {
   "attachments": {},
   "cell_type": "markdown",
   "metadata": {},
   "source": [
    "# Support Vector Machines\n",
    "\n",
    "<https://scikit-learn.org/stable/modules/generated/sklearn.svm.SVC.html>\n",
    "\n",
    "- Can overfit, if the number of features is much greater than the number of samples\n",
    "- SVMs do not directly provide probability estimates"
   ]
  },
  {
   "cell_type": "code",
   "execution_count": 9,
   "metadata": {
    "vscode": {
     "languageId": "python"
    }
   },
   "outputs": [],
   "source": [
    "import shared.prepare as sp\n",
    "import shared.classifier as sc\n",
    "from sklearn import svm \n",
    "from sklearn.pipeline import make_pipeline\n",
    "from sklearn.preprocessing import StandardScaler\n",
    "\n",
    "module = \"002_minst\"\n",
    "\n",
    "X_train = sp.loadNp(module, \"X_train\")\n",
    "y_train = sp.loadNp(module, \"y_train\")\n",
    "y_train_5 = (y_train == '5')\n",
    "\n",
    "digit_5=X_train[0]\n",
    "digit_0=X_train[1]"
   ]
  },
  {
   "attachments": {},
   "cell_type": "markdown",
   "metadata": {},
   "source": [
    "## linear"
   ]
  },
  {
   "cell_type": "code",
   "execution_count": 6,
   "metadata": {
    "vscode": {
     "languageId": "python"
    }
   },
   "outputs": [
    {
     "name": "stderr",
     "output_type": "stream",
     "text": [
      "/opt/conda/lib/python3.10/site-packages/sklearn/svm/_base.py:1244: ConvergenceWarning: Liblinear failed to converge, increase the number of iterations.\n",
      "  warnings.warn(\n"
     ]
    }
   ],
   "source": [
    "lin_clf = sp.loadModel(module, \"lin_clf\", lambda: svm.LinearSVC().fit(X_train, y_train_5))"
   ]
  },
  {
   "cell_type": "code",
   "execution_count": 7,
   "metadata": {
    "vscode": {
     "languageId": "python"
    }
   },
   "outputs": [
    {
     "name": "stderr",
     "output_type": "stream",
     "text": [
      "/opt/conda/lib/python3.10/site-packages/sklearn/svm/_base.py:1244: ConvergenceWarning: Liblinear failed to converge, increase the number of iterations.\n",
      "  warnings.warn(\n",
      "/opt/conda/lib/python3.10/site-packages/sklearn/svm/_base.py:1244: ConvergenceWarning: Liblinear failed to converge, increase the number of iterations.\n",
      "  warnings.warn(\n",
      "/opt/conda/lib/python3.10/site-packages/sklearn/svm/_base.py:1244: ConvergenceWarning: Liblinear failed to converge, increase the number of iterations.\n",
      "  warnings.warn(\n",
      "/opt/conda/lib/python3.10/site-packages/sklearn/svm/_base.py:1244: ConvergenceWarning: Liblinear failed to converge, increase the number of iterations.\n",
      "  warnings.warn(\n"
     ]
    },
    {
     "name": "stdout",
     "output_type": "stream",
     "text": [
      "[[52438  2141]\n",
      " [ 1149  4272]]\n",
      "\n",
      "precision: 0.6661468891314517\n",
      "recall:    0.7880464858882125\n",
      "f1:        0.7219874936623287\n"
     ]
    },
    {
     "name": "stderr",
     "output_type": "stream",
     "text": [
      "/opt/conda/lib/python3.10/site-packages/sklearn/svm/_base.py:1244: ConvergenceWarning: Liblinear failed to converge, increase the number of iterations.\n",
      "  warnings.warn(\n"
     ]
    }
   ],
   "source": [
    "lin_pred = sp.loadCross_pred(module, \"lin_pred\", lin_clf, X_train, y_train_5)\n",
    "sc.precisionRecall_check(lin_clf, y=y_train_5, y_pred=lin_pred)"
   ]
  },
  {
   "cell_type": "code",
   "execution_count": 8,
   "metadata": {
    "vscode": {
     "languageId": "python"
    }
   },
   "outputs": [
    {
     "name": "stderr",
     "output_type": "stream",
     "text": [
      "/opt/conda/lib/python3.10/site-packages/sklearn/svm/_base.py:1244: ConvergenceWarning: Liblinear failed to converge, increase the number of iterations.\n",
      "  warnings.warn(\n",
      "/opt/conda/lib/python3.10/site-packages/sklearn/svm/_base.py:1244: ConvergenceWarning: Liblinear failed to converge, increase the number of iterations.\n",
      "  warnings.warn(\n",
      "/opt/conda/lib/python3.10/site-packages/sklearn/svm/_base.py:1244: ConvergenceWarning: Liblinear failed to converge, increase the number of iterations.\n",
      "  warnings.warn(\n",
      "/opt/conda/lib/python3.10/site-packages/sklearn/svm/_base.py:1244: ConvergenceWarning: Liblinear failed to converge, increase the number of iterations.\n",
      "  warnings.warn(\n",
      "/opt/conda/lib/python3.10/site-packages/sklearn/svm/_base.py:1244: ConvergenceWarning: Liblinear failed to converge, increase the number of iterations.\n",
      "  warnings.warn(\n"
     ]
    },
    {
     "data": {
      "image/png": "[encoded data removed]",
      "text/plain": [
       "<Figure size 400x400 with 1 Axes>"
      ]
     },
     "metadata": {},
     "output_type": "display_data"
    },
    {
     "name": "stdout",
     "output_type": "stream",
     "text": [
      "Area under: 0.9589544098583269\n"
     ]
    }
   ],
   "source": [
    "lin_scores = sp.loadCross_decisionFunction(module, \"lin_scores\", lin_clf, X_train, y_train_5)\n",
    "sc.recallFallout_curve(lin_clf, X_train, y_train_5, lin_scores)"
   ]
  },
  {
   "attachments": {},
   "cell_type": "markdown",
   "metadata": {},
   "source": [
    "## rbf"
   ]
  },
  {
   "cell_type": "code",
   "execution_count": 2,
   "metadata": {
    "vscode": {
     "languageId": "python"
    }
   },
   "outputs": [],
   "source": [
    "rbf_clf = sp.loadModel(module, \"rbf_clf\", lambda: svm.SVC(kernel='rbf').fit(X_train, y_train_5))"
   ]
  },
  {
   "cell_type": "code",
   "execution_count": 4,
   "metadata": {
    "vscode": {
     "languageId": "python"
    }
   },
   "outputs": [
    {
     "name": "stdout",
     "output_type": "stream",
     "text": [
      "[[54506    73]\n",
      " [  298  5123]]\n",
      "\n",
      "precision: 0.9859507313317937\n",
      "recall:    0.9450285925106069\n",
      "f1:        0.9650560421964773\n"
     ]
    }
   ],
   "source": [
    "rbf_pred = sp.loadCross_pred(module, \"rbf_pred\", rbf_clf, X_train, y_train_5)\n",
    "sc.precisionRecall_check(rbf_clf, y=y_train_5, y_pred=rbf_pred)"
   ]
  },
  {
   "cell_type": "code",
   "execution_count": 5,
   "metadata": {
    "vscode": {
     "languageId": "python"
    }
   },
   "outputs": [
    {
     "data": {
      "image/png": "[encoded data removed]",
      "text/plain": [
       "<Figure size 400x400 with 1 Axes>"
      ]
     },
     "metadata": {},
     "output_type": "display_data"
    },
    {
     "name": "stdout",
     "output_type": "stream",
     "text": [
      "Area under: 0.9987231538270815\n"
     ]
    }
   ],
   "source": [
    "rbf_scores = sp.loadCross_decisionFunction(module, \"rbf_scores\", rbf_clf, X_train, y_train_5)\n",
    "sc.recallFallout_curve(rbf_clf, X_train, y_train_5, rbf_scores)"
   ]
  },
  {
   "attachments": {},
   "cell_type": "markdown",
   "metadata": {},
   "source": [
    "## rbf2"
   ]
  },
  {
   "cell_type": "code",
   "execution_count": 10,
   "metadata": {
    "vscode": {
     "languageId": "python"
    }
   },
   "outputs": [],
   "source": [
    "rbf2_clf = sp.loadModel(module, \"rbf2_clf\", lambda: make_pipeline(StandardScaler(), svm.SVC(kernel='rbf')).fit(X_train, y_train_5))"
   ]
  },
  {
   "cell_type": "code",
   "execution_count": 11,
   "metadata": {
    "vscode": {
     "languageId": "python"
    }
   },
   "outputs": [
    {
     "name": "stdout",
     "output_type": "stream",
     "text": [
      "[[54490    89]\n",
      " [  447  4974]]\n",
      "\n",
      "precision: 0.982421489235631\n",
      "recall:    0.9175428887659104\n",
      "f1:        0.9488744753910721\n"
     ]
    }
   ],
   "source": [
    "rbf2_pred = sp.loadCross_pred(module, \"rbf2_pred\", rbf2_clf, X_train, y_train_5)\n",
    "sc.precisionRecall_check(rbf2_clf, y=y_train_5, y_pred=rbf2_pred)"
   ]
  },
  {
   "cell_type": "code",
   "execution_count": 12,
   "metadata": {
    "vscode": {
     "languageId": "python"
    }
   },
   "outputs": [
    {
     "data": {
      "image/png": "[encoded data removed]",
      "text/plain": [
       "<Figure size 400x400 with 1 Axes>"
      ]
     },
     "metadata": {},
     "output_type": "display_data"
    },
    {
     "name": "stdout",
     "output_type": "stream",
     "text": [
      "Area under: 0.9971849774111851\n"
     ]
    }
   ],
   "source": [
    "rbf2_scores = sp.loadCross_decisionFunction(module, \"rbf2_scores\", rbf2_clf, X_train, y_train_5)\n",
    "sc.recallFallout_curve(rbf2_clf, X_train, y_train_5, rbf2_scores)"
   ]
  }
 ],
 "metadata": {
  "kernelspec": {
   "display_name": "Python 3 (ipykernel)",
   "language": "python",
   "name": "python3"
  },
  "orig_nbformat": 4
 },
 "nbformat": 4,
 "nbformat_minor": 2
}
