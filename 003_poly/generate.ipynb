{
 "cells": [
  {
   "cell_type": "code",
   "execution_count": 1,
   "metadata": {},
   "outputs": [],
   "source": [
    "import numpy as np\n",
    "import pandas as pd\n",
    "from functools import reduce\n",
    "from itertools import chain"
   ]
  },
  {
   "attachments": {},
   "cell_type": "markdown",
   "metadata": {},
   "source": [
    "## Module"
   ]
  },
  {
   "cell_type": "code",
   "execution_count": 2,
   "metadata": {},
   "outputs": [
    {
     "data": {
      "text/html": [
       "<div>\n",
       "<style scoped>\n",
       "    .dataframe tbody tr th:only-of-type {\n",
       "        vertical-align: middle;\n",
       "    }\n",
       "\n",
       "    .dataframe tbody tr th {\n",
       "        vertical-align: top;\n",
       "    }\n",
       "\n",
       "    .dataframe thead th {\n",
       "        text-align: right;\n",
       "    }\n",
       "</style>\n",
       "<table border=\"1\" class=\"dataframe\">\n",
       "  <thead>\n",
       "    <tr style=\"text-align: right;\">\n",
       "      <th></th>\n",
       "      <th>0_0</th>\n",
       "      <th>0_1</th>\n",
       "      <th>0_2</th>\n",
       "      <th>0_3</th>\n",
       "      <th>1_0</th>\n",
       "      <th>1_1</th>\n",
       "      <th>1_2</th>\n",
       "      <th>2_0</th>\n",
       "      <th>2_1</th>\n",
       "      <th>3_0</th>\n",
       "    </tr>\n",
       "  </thead>\n",
       "  <tbody>\n",
       "    <tr>\n",
       "      <th>0</th>\n",
       "      <td>9</td>\n",
       "      <td>8</td>\n",
       "      <td>8</td>\n",
       "      <td>8</td>\n",
       "      <td>1</td>\n",
       "      <td>8</td>\n",
       "      <td>9</td>\n",
       "      <td>3</td>\n",
       "      <td>2</td>\n",
       "      <td>1</td>\n",
       "    </tr>\n",
       "  </tbody>\n",
       "</table>\n",
       "</div>"
      ],
      "text/plain": [
       "   0_0  0_1  0_2  0_3  1_0  1_1  1_2  2_0  2_1  3_0\n",
       "0    9    8    8    8    1    8    9    3    2    1"
      ]
     },
     "execution_count": 2,
     "metadata": {},
     "output_type": "execute_result"
    }
   ],
   "source": [
    "def generate_coefficientCodes_at(current, variablePos, maxPower):\n",
    "  if variablePos < len(current):\n",
    "    current[variablePos] = 0\n",
    "    while sum(current) <= maxPower:\n",
    "      for v in generate_coefficientCodes_at(current, variablePos + 1, maxPower):\n",
    "        yield v\n",
    "      current[variablePos] = current[variablePos] + 1\n",
    "    current[variablePos] = 0\n",
    "  else:\n",
    "    yield current.copy()\n",
    "  \n",
    "def generate_coefficientCodes(variablesCount, maxPower):\n",
    "  current = np.full(variablesCount, 0)\n",
    "  return generate_coefficientCodes_at(current, 0, maxPower)\n",
    "\n",
    "def coefficientCode_to_string(code):\n",
    "  return np.array2string(code, separator='_')[1:-1]\n",
    "\n",
    "def generate_model(variablesCount, maxPower, random_low=1, random_high=10, random_state=None):\n",
    "  coefficients_names = [coefficientCode_to_string(v) for v in generate_coefficientCodes(variablesCount, maxPower)]\n",
    "  coefficients_values = np.random.default_rng(random_state).integers(low=random_low, high=random_high, size=len(coefficients_names))\n",
    "  return pd.DataFrame([coefficients_values], columns=coefficients_names)\n",
    "\n",
    "model = generate_model(variablesCount=2, maxPower=3, random_state=13)\n",
    "model"
   ]
  },
  {
   "cell_type": "code",
   "execution_count": 3,
   "metadata": {},
   "outputs": [
    {
     "data": {
      "text/plain": [
       "577"
      ]
     },
     "execution_count": 3,
     "metadata": {},
     "output_type": "execute_result"
    }
   ],
   "source": [
    "9*1*1 + 8*1*3 + 8*1*9 + 8*1*27 + 1*2*1 + 8*2*3 + 9*2*9 + 3*4*1 + 2*4*3 + 1*8*1"
   ]
  },
  {
   "cell_type": "code",
   "execution_count": 4,
   "metadata": {},
   "outputs": [
    {
     "data": {
      "text/plain": [
       "577"
      ]
     },
     "execution_count": 4,
     "metadata": {},
     "output_type": "execute_result"
    }
   ],
   "source": [
    "def coefficientString_to_code(value):\n",
    "  return [int(v) for v in value.split('_')]\n",
    "\n",
    "def calculate_polynomial_term(coefficient, values, valuePowers):\n",
    "  result = coefficient\n",
    "  for i in range(len(values)):\n",
    "    result = result * pow(values[i], valuePowers[i])\n",
    "  return result\n",
    "\n",
    "class ExecutionModel:\n",
    "\n",
    "  def __init__(self, model):\n",
    "    self.model = model\n",
    "    self.coefficients = model.iloc[0].to_numpy()\n",
    "    self.valuePowers = [coefficientString_to_code(c) for c in model.columns]\n",
    "\n",
    "  def calculate_result(self, values):\n",
    "    return sum(\n",
    "      calculate_polynomial_term(self.coefficients[i], values, self.valuePowers[i]) \n",
    "      for i in range(len(self.coefficients)))\n",
    "  \n",
    "  def get_inputs_count(self):\n",
    "    return len(self.valuePowers[0])\n",
    "  \n",
    "  def generate_data_set(self, points_count, scale=10, random_state=None):    \n",
    "    inputCount = self.get_inputs_count()\n",
    "    inputs = np.random.default_rng(random_state).random((points_count, inputCount)) * scale\n",
    "    results = [self.calculate_result(inputs[i]) for i in range(points_count)]\n",
    "    data = np.concatenate((inputs, np.array([results]).T), axis=1)\n",
    "    columns = [i for i in chain((chr(ord('a')+i) for i in range(inputCount)), ['result'])]\n",
    "    return pd.DataFrame(data, columns=columns)\n",
    "\n",
    "exModel = ExecutionModel(model)\n",
    "exModel.calculate_result([2, 3])"
   ]
  },
  {
   "cell_type": "code",
   "execution_count": 5,
   "metadata": {},
   "outputs": [
    {
     "data": {
      "text/html": [
       "<div>\n",
       "<style scoped>\n",
       "    .dataframe tbody tr th:only-of-type {\n",
       "        vertical-align: middle;\n",
       "    }\n",
       "\n",
       "    .dataframe tbody tr th {\n",
       "        vertical-align: top;\n",
       "    }\n",
       "\n",
       "    .dataframe thead th {\n",
       "        text-align: right;\n",
       "    }\n",
       "</style>\n",
       "<table border=\"1\" class=\"dataframe\">\n",
       "  <thead>\n",
       "    <tr style=\"text-align: right;\">\n",
       "      <th></th>\n",
       "      <th>a</th>\n",
       "      <th>b</th>\n",
       "      <th>result</th>\n",
       "    </tr>\n",
       "  </thead>\n",
       "  <tbody>\n",
       "    <tr>\n",
       "      <th>0</th>\n",
       "      <td>8.647976</td>\n",
       "      <td>8.553025</td>\n",
       "      <td>14112.723520</td>\n",
       "    </tr>\n",
       "    <tr>\n",
       "      <th>1</th>\n",
       "      <td>8.110234</td>\n",
       "      <td>2.614464</td>\n",
       "      <td>1978.962909</td>\n",
       "    </tr>\n",
       "  </tbody>\n",
       "</table>\n",
       "</div>"
      ],
      "text/plain": [
       "          a         b        result\n",
       "0  8.647976  8.553025  14112.723520\n",
       "1  8.110234  2.614464   1978.962909"
      ]
     },
     "execution_count": 5,
     "metadata": {},
     "output_type": "execute_result"
    }
   ],
   "source": [
    "exModel.generate_data_set(2, random_state=13)"
   ]
  },
  {
   "attachments": {},
   "cell_type": "markdown",
   "metadata": {},
   "source": [
    "## Export"
   ]
  },
  {
   "cell_type": "code",
   "execution_count": 6,
   "metadata": {},
   "outputs": [
    {
     "name": "stdout",
     "output_type": "stream",
     "text": [
      "003_poly_1_1.h5\n",
      "003_poly_4_1.h5\n",
      "003_poly_1_2.h5\n",
      "003_poly_4_2.h5\n"
     ]
    }
   ],
   "source": [
    "def export_pure(variablesCount, maxPower, points_count=10000, random_state=None):\n",
    "    model = generate_model(variablesCount=variablesCount, maxPower=maxPower, random_state=random_state)\n",
    "    data = ExecutionModel(model).generate_data_set(points_count, random_state=random_state)\n",
    "    \n",
    "    fileName = f'003_poly_{variablesCount}_{maxPower}.h5'\n",
    "    model.to_hdf(fileName, \"model\", format=\"fixed\")\n",
    "    data.to_hdf(fileName, \"data\", format=\"fixed\")\n",
    "    print(fileName)\n",
    "\n",
    "export_pure(1, 1, random_state=42)\n",
    "export_pure(4, 1, random_state=42)\n",
    "\n",
    "export_pure(1, 2, random_state=42)\n",
    "export_pure(4, 2, random_state=42)"
   ]
  },
  {
   "cell_type": "code",
   "execution_count": 7,
   "metadata": {},
   "outputs": [
    {
     "name": "stdout",
     "output_type": "stream",
     "text": [
      "003_poly_6_8.h5\n"
     ]
    }
   ],
   "source": [
    "export_pure(6, 8, random_state=42)"
   ]
  },
  {
   "cell_type": "code",
   "execution_count": 9,
   "metadata": {},
   "outputs": [
    {
     "name": "stdout",
     "output_type": "stream",
     "text": [
      "003_poly_16_8.h5\n"
     ]
    }
   ],
   "source": [
    "export_pure(16, 8, random_state=42)"
   ]
  }
 ],
 "metadata": {
  "kernelspec": {
   "display_name": "Python 3 (ipykernel)",
   "language": "python",
   "name": "python3"
  },
  "language_info": {
   "codemirror_mode": {
    "name": "ipython",
    "version": 3
   },
   "file_extension": ".py",
   "mimetype": "text/x-python",
   "name": "python",
   "nbconvert_exporter": "python",
   "pygments_lexer": "ipython3",
   "version": "3.10.8"
  },
  "orig_nbformat": 4
 },
 "nbformat": 4,
 "nbformat_minor": 2
}
