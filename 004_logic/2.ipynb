{
 "cells": [
  {
   "cell_type": "code",
   "execution_count": 50,
   "metadata": {},
   "outputs": [],
   "source": [
    "import numpy as np\n",
    "import pandas as pd\n",
    "from sklearn.linear_model import LogisticRegression, SGDClassifier\n",
    "from sklearn.svm import SVC\n",
    "from sklearn.metrics.pairwise import manhattan_distances"
   ]
  },
  {
   "cell_type": "code",
   "execution_count": 51,
   "metadata": {},
   "outputs": [],
   "source": [
    "class LogicDataset:\n",
    "\n",
    "  def __init__(self, variablesCount, flavour):\n",
    "    fileName = f'004_logic_{variablesCount}_{flavour}.h5'\n",
    "    self.model = pd.read_hdf(fileName, \"model\")\n",
    "    self.dataset = pd.read_hdf(fileName, \"data\")\n",
    "    self.X = self.dataset.drop(\"result\", axis=1)\n",
    "    self.y = self.dataset[\"result\"].copy()\n",
    "\n",
    "data_2 = LogicDataset(2, 2)"
   ]
  },
  {
   "cell_type": "code",
   "execution_count": 52,
   "metadata": {},
   "outputs": [],
   "source": [
    "def fitSGDClassfier(X, y, loss, max_iter=1000, n_iter_no_change=5):\n",
    "    sgd = SGDClassifier(\n",
    "        loss=loss, learning_rate=\"optimal\", \n",
    "        max_iter=max_iter, n_iter_no_change=n_iter_no_change, \n",
    "        shuffle=True, random_state=42, n_jobs=-1)\n",
    "    sgd.fit(X, y)\n",
    "    print(f'n_iter: {sgd.n_iter_}')\n",
    "    return sgd\n",
    "\n",
    "def print_preditions(X, y, y_pred):\n",
    "  print(f'{\"X\":10}| {\"y\":3}| {\"pred\":3}')\n",
    "  for i in range(0, len(data_2.X)):\n",
    "    print(f'{str(X.iloc[i].to_list()):10}| {str(y[i]):3}| {str(y_pred[i]):3}')"
   ]
  },
  {
   "attachments": {},
   "cell_type": "markdown",
   "metadata": {},
   "source": [
    "## Classical"
   ]
  },
  {
   "cell_type": "code",
   "execution_count": 53,
   "metadata": {},
   "outputs": [
    {
     "data": {
      "text/html": [
       "<div>\n",
       "<style scoped>\n",
       "    .dataframe tbody tr th:only-of-type {\n",
       "        vertical-align: middle;\n",
       "    }\n",
       "\n",
       "    .dataframe tbody tr th {\n",
       "        vertical-align: top;\n",
       "    }\n",
       "\n",
       "    .dataframe thead th {\n",
       "        text-align: right;\n",
       "    }\n",
       "</style>\n",
       "<table border=\"1\" class=\"dataframe\">\n",
       "  <thead>\n",
       "    <tr style=\"text-align: right;\">\n",
       "      <th></th>\n",
       "      <th>1_1</th>\n",
       "      <th>1_2</th>\n",
       "      <th>2_1</th>\n",
       "      <th>2_2</th>\n",
       "    </tr>\n",
       "  </thead>\n",
       "  <tbody>\n",
       "    <tr>\n",
       "      <th>0</th>\n",
       "      <td>0</td>\n",
       "      <td>1</td>\n",
       "      <td>1</td>\n",
       "      <td>0</td>\n",
       "    </tr>\n",
       "  </tbody>\n",
       "</table>\n",
       "</div>"
      ],
      "text/plain": [
       "   1_1  1_2  2_1  2_2\n",
       "0    0    1    1    0"
      ]
     },
     "execution_count": 53,
     "metadata": {},
     "output_type": "execute_result"
    }
   ],
   "source": [
    "data_2.model"
   ]
  },
  {
   "cell_type": "code",
   "execution_count": 67,
   "metadata": {},
   "outputs": [
    {
     "name": "stdout",
     "output_type": "stream",
     "text": [
      "X         | y  | pred\n",
      "[0, 0]    | 0  | 0 (0.5)\n",
      "[0, 1]    | 1  | 0 (0.5)\n",
      "[1, 0]    | 1  | 0 (0.5)\n",
      "[1, 1]    | 0  | 0 (0.5)\n"
     ]
    }
   ],
   "source": [
    "clf_log = LogisticRegression(random_state=42, solver='lbfgs').fit(data_2.X, data_2.y)\n",
    "clf_log_y = clf_log.predict(data_2.X)\n",
    "clf_log_py = clf_log.predict_proba(data_2.X)\n",
    "print_preditions(data_2.X, data_2.y, [f'{clf_log_y[i]} ({clf_log_py[i][1]})' for i in range(0, len(clf_log_y))] )"
   ]
  },
  {
   "cell_type": "code",
   "execution_count": 55,
   "metadata": {},
   "outputs": [
    {
     "name": "stdout",
     "output_type": "stream",
     "text": [
      "n_iter: 1000\n",
      "X         | y  | pred\n",
      "[0, 0]    | 0  | 1  \n",
      "[0, 1]    | 1  | 1  \n",
      "[1, 0]    | 1  | 1  \n",
      "[1, 1]    | 0  | 1  \n"
     ]
    },
    {
     "name": "stderr",
     "output_type": "stream",
     "text": [
      "/opt/conda/lib/python3.10/site-packages/sklearn/linear_model/_stochastic_gradient.py:702: ConvergenceWarning: Maximum number of iteration reached before convergence. Consider increasing max_iter to improve the fit.\n",
      "  warnings.warn(\n"
     ]
    }
   ],
   "source": [
    "clf_sgd = fitSGDClassfier(data_2.X, data_2.y, loss='hinge')\n",
    "clf_sgd_y = clf_sgd.predict(data_2.X)\n",
    "print_preditions(data_2.X, data_2.y, clf_sgd_y)"
   ]
  },
  {
   "cell_type": "code",
   "execution_count": 68,
   "metadata": {},
   "outputs": [
    {
     "name": "stdout",
     "output_type": "stream",
     "text": [
      "X         | y  | pred\n",
      "[0, 0]    | 0  | 0  \n",
      "[0, 1]    | 1  | 1  \n",
      "[1, 0]    | 1  | 1  \n",
      "[1, 1]    | 0  | 0  \n"
     ]
    }
   ],
   "source": [
    "clf_svc2 = SVC(kernel='poly', degree=2).fit(data_2.X, data_2.y)\n",
    "clf_svc2_y = clf_svc2.predict(data_2.X)\n",
    "print_preditions(data_2.X, data_2.y, clf_svc2_y)"
   ]
  },
  {
   "cell_type": "code",
   "execution_count": 63,
   "metadata": {},
   "outputs": [
    {
     "name": "stdout",
     "output_type": "stream",
     "text": [
      "X         | y  | pred\n",
      "[0, 0]    | 0  | 0  \n",
      "[0, 1]    | 1  | 1  \n",
      "[1, 0]    | 1  | 1  \n",
      "[1, 1]    | 0  | 0  \n"
     ]
    }
   ],
   "source": [
    "clf_svc = SVC(kernel='rbf').fit(data_2.X, data_2.y)\n",
    "clf_svc_y = clf_svc.predict(data_2.X)\n",
    "print_preditions(data_2.X, data_2.y, clf_svc_y)"
   ]
  }
 ],
 "metadata": {
  "kernelspec": {
   "display_name": "Python 3 (ipykernel)",
   "language": "python",
   "name": "python3"
  },
  "language_info": {
   "codemirror_mode": {
    "name": "ipython",
    "version": 3
   },
   "file_extension": ".py",
   "mimetype": "text/x-python",
   "name": "python",
   "nbconvert_exporter": "python",
   "pygments_lexer": "ipython3",
   "version": "3.10.8"
  },
  "orig_nbformat": 4
 },
 "nbformat": 4,
 "nbformat_minor": 2
}
