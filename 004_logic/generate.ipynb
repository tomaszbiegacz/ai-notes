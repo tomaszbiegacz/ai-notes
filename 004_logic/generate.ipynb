{
 "cells": [
  {
   "cell_type": "code",
   "execution_count": 1,
   "metadata": {},
   "outputs": [],
   "source": [
    "import numpy as np\n",
    "import pandas as pd\n",
    "from itertools import product, chain"
   ]
  },
  {
   "attachments": {},
   "cell_type": "markdown",
   "metadata": {},
   "source": [
    "## Module"
   ]
  },
  {
   "cell_type": "code",
   "execution_count": 2,
   "metadata": {},
   "outputs": [
    {
     "data": {
      "text/html": [
       "<div>\n",
       "<style scoped>\n",
       "    .dataframe tbody tr th:only-of-type {\n",
       "        vertical-align: middle;\n",
       "    }\n",
       "\n",
       "    .dataframe tbody tr th {\n",
       "        vertical-align: top;\n",
       "    }\n",
       "\n",
       "    .dataframe thead th {\n",
       "        text-align: right;\n",
       "    }\n",
       "</style>\n",
       "<table border=\"1\" class=\"dataframe\">\n",
       "  <thead>\n",
       "    <tr style=\"text-align: right;\">\n",
       "      <th></th>\n",
       "      <th>1_1</th>\n",
       "      <th>1_2</th>\n",
       "      <th>2_1</th>\n",
       "      <th>2_2</th>\n",
       "    </tr>\n",
       "  </thead>\n",
       "  <tbody>\n",
       "    <tr>\n",
       "      <th>0</th>\n",
       "      <td>0</td>\n",
       "      <td>1</td>\n",
       "      <td>1</td>\n",
       "      <td>0</td>\n",
       "    </tr>\n",
       "  </tbody>\n",
       "</table>\n",
       "</div>"
      ],
      "text/plain": [
       "   1_1  1_2  2_1  2_2\n",
       "0    0    1    1    0"
      ]
     },
     "execution_count": 2,
     "metadata": {},
     "output_type": "execute_result"
    }
   ],
   "source": [
    "CODE_IDENTITY = 1\n",
    "CODE_NEGATION = 2\n",
    "\n",
    "def generate_coefficientCodes(variablesCount):\n",
    "  return [list(i) for i in product([CODE_IDENTITY, CODE_NEGATION], repeat=variablesCount)]\n",
    "\n",
    "def coefficientCode_to_string(code):\n",
    "  return '_'.join(str(letter) for letter in code)\n",
    "\n",
    "def generate_model(variablesCount, random_state=None):\n",
    "  coefficients_names = [coefficientCode_to_string(v) for v in generate_coefficientCodes(variablesCount)]\n",
    "  coefficients_values = np.random.default_rng(random_state).integers(low=0, high=2, size=len(coefficients_names))\n",
    "  return pd.DataFrame([coefficients_values], columns=coefficients_names)\n",
    "\n",
    "model = generate_model(variablesCount=2, random_state=42)\n",
    "model\n"
   ]
  },
  {
   "cell_type": "code",
   "execution_count": 3,
   "metadata": {},
   "outputs": [
    {
     "name": "stdout",
     "output_type": "stream",
     "text": [
      "0\n",
      "0\n",
      "1\n",
      "0\n",
      "1\n"
     ]
    }
   ],
   "source": [
    "def coefficientString_to_code(value):\n",
    "  return [int(v) for v in value.split('_')]\n",
    "\n",
    "def calculate_and(current, value, valueModifier):\n",
    "  return min(current, value if valueModifier == 1 else 1 - value)\n",
    "\n",
    "def calculate_polynomial_term(values, valueModifiers):\n",
    "  if (sum(valueModifiers) == 0):\n",
    "    return 0\n",
    "  else:\n",
    "    result = 1\n",
    "    for i in range(len(values)):\n",
    "      result = calculate_and(result, values[i], valueModifiers[i])\n",
    "    return result\n",
    "\n",
    "print(calculate_polynomial_term([1, 1], coefficientString_to_code('2_2')))\n",
    "print(calculate_polynomial_term([1, 1], coefficientString_to_code('1_2')))\n",
    "print(calculate_polynomial_term([1, 1], coefficientString_to_code('1_1')))\n",
    "print(calculate_polynomial_term([1, 1], coefficientString_to_code('2_1')))\n",
    "print(calculate_polynomial_term([0, 0], coefficientString_to_code('2_2')))"
   ]
  },
  {
   "cell_type": "code",
   "execution_count": 4,
   "metadata": {},
   "outputs": [
    {
     "data": {
      "text/html": [
       "<div>\n",
       "<style scoped>\n",
       "    .dataframe tbody tr th:only-of-type {\n",
       "        vertical-align: middle;\n",
       "    }\n",
       "\n",
       "    .dataframe tbody tr th {\n",
       "        vertical-align: top;\n",
       "    }\n",
       "\n",
       "    .dataframe thead th {\n",
       "        text-align: right;\n",
       "    }\n",
       "</style>\n",
       "<table border=\"1\" class=\"dataframe\">\n",
       "  <thead>\n",
       "    <tr style=\"text-align: right;\">\n",
       "      <th></th>\n",
       "      <th>a</th>\n",
       "      <th>b</th>\n",
       "      <th>result</th>\n",
       "    </tr>\n",
       "  </thead>\n",
       "  <tbody>\n",
       "    <tr>\n",
       "      <th>0</th>\n",
       "      <td>0</td>\n",
       "      <td>0</td>\n",
       "      <td>0</td>\n",
       "    </tr>\n",
       "    <tr>\n",
       "      <th>1</th>\n",
       "      <td>0</td>\n",
       "      <td>1</td>\n",
       "      <td>1</td>\n",
       "    </tr>\n",
       "    <tr>\n",
       "      <th>2</th>\n",
       "      <td>1</td>\n",
       "      <td>0</td>\n",
       "      <td>1</td>\n",
       "    </tr>\n",
       "    <tr>\n",
       "      <th>3</th>\n",
       "      <td>1</td>\n",
       "      <td>1</td>\n",
       "      <td>0</td>\n",
       "    </tr>\n",
       "  </tbody>\n",
       "</table>\n",
       "</div>"
      ],
      "text/plain": [
       "   a  b  result\n",
       "0  0  0       0\n",
       "1  0  1       1\n",
       "2  1  0       1\n",
       "3  1  1       0"
      ]
     },
     "execution_count": 4,
     "metadata": {},
     "output_type": "execute_result"
    }
   ],
   "source": [
    "class ExecutionModel:\n",
    "\n",
    "  def __init__(self, model):\n",
    "    self.model = model\n",
    "    self.coefficients = model.iloc[0].to_numpy()\n",
    "    self.valueModifier = [coefficientString_to_code(c) for c in model.columns]\n",
    "\n",
    "  def calculate_result(self, values):\n",
    "    result = 0\n",
    "    for i in range(len(self.coefficients)):\n",
    "      if self.coefficients[i] != 0:\n",
    "        result = max(result, calculate_polynomial_term(values, self.valueModifier[i]))\n",
    "    return result\n",
    "  \n",
    "  def get_inputs_count(self):\n",
    "    return len(self.valueModifier[0])\n",
    "  \n",
    "  def generate_data_set(self, allowedValues):    \n",
    "    inputCount = self.get_inputs_count()\n",
    "    inputs = [list(i) for i in product(allowedValues, repeat=inputCount)]\n",
    "    points_count = len(inputs)\n",
    "    results = [self.calculate_result(inputs[i]) for i in range(points_count)]\n",
    "    data = np.concatenate((inputs, np.array([results]).T), axis=1)\n",
    "    columns = [i for i in chain((chr(ord('a')+i) for i in range(inputCount)), ['result'])]\n",
    "    return pd.DataFrame(data, columns=columns)\n",
    "\n",
    "exModel = ExecutionModel(model)\n",
    "exModel.generate_data_set([0, 1])"
   ]
  },
  {
   "cell_type": "code",
   "execution_count": 10,
   "metadata": {},
   "outputs": [
    {
     "data": {
      "text/plain": [
       "1"
      ]
     },
     "execution_count": 10,
     "metadata": {},
     "output_type": "execute_result"
    }
   ],
   "source": [
    "exModel.calculate_result([0, 1])"
   ]
  },
  {
   "cell_type": "code",
   "execution_count": 18,
   "metadata": {},
   "outputs": [
    {
     "data": {
      "text/html": [
       "<div>\n",
       "<style scoped>\n",
       "    .dataframe tbody tr th:only-of-type {\n",
       "        vertical-align: middle;\n",
       "    }\n",
       "\n",
       "    .dataframe tbody tr th {\n",
       "        vertical-align: top;\n",
       "    }\n",
       "\n",
       "    .dataframe thead th {\n",
       "        text-align: right;\n",
       "    }\n",
       "</style>\n",
       "<table border=\"1\" class=\"dataframe\">\n",
       "  <thead>\n",
       "    <tr style=\"text-align: right;\">\n",
       "      <th></th>\n",
       "      <th>a</th>\n",
       "      <th>b</th>\n",
       "      <th>result</th>\n",
       "    </tr>\n",
       "  </thead>\n",
       "  <tbody>\n",
       "    <tr>\n",
       "      <th>0</th>\n",
       "      <td>0.0</td>\n",
       "      <td>0.0</td>\n",
       "      <td>0.0</td>\n",
       "    </tr>\n",
       "    <tr>\n",
       "      <th>1</th>\n",
       "      <td>0.0</td>\n",
       "      <td>0.5</td>\n",
       "      <td>0.5</td>\n",
       "    </tr>\n",
       "    <tr>\n",
       "      <th>2</th>\n",
       "      <td>0.0</td>\n",
       "      <td>1.0</td>\n",
       "      <td>1.0</td>\n",
       "    </tr>\n",
       "    <tr>\n",
       "      <th>3</th>\n",
       "      <td>0.5</td>\n",
       "      <td>0.0</td>\n",
       "      <td>0.5</td>\n",
       "    </tr>\n",
       "    <tr>\n",
       "      <th>4</th>\n",
       "      <td>0.5</td>\n",
       "      <td>0.5</td>\n",
       "      <td>0.5</td>\n",
       "    </tr>\n",
       "    <tr>\n",
       "      <th>5</th>\n",
       "      <td>0.5</td>\n",
       "      <td>1.0</td>\n",
       "      <td>0.5</td>\n",
       "    </tr>\n",
       "    <tr>\n",
       "      <th>6</th>\n",
       "      <td>1.0</td>\n",
       "      <td>0.0</td>\n",
       "      <td>1.0</td>\n",
       "    </tr>\n",
       "    <tr>\n",
       "      <th>7</th>\n",
       "      <td>1.0</td>\n",
       "      <td>0.5</td>\n",
       "      <td>0.5</td>\n",
       "    </tr>\n",
       "    <tr>\n",
       "      <th>8</th>\n",
       "      <td>1.0</td>\n",
       "      <td>1.0</td>\n",
       "      <td>0.0</td>\n",
       "    </tr>\n",
       "  </tbody>\n",
       "</table>\n",
       "</div>"
      ],
      "text/plain": [
       "     a    b  result\n",
       "0  0.0  0.0     0.0\n",
       "1  0.0  0.5     0.5\n",
       "2  0.0  1.0     1.0\n",
       "3  0.5  0.0     0.5\n",
       "4  0.5  0.5     0.5\n",
       "5  0.5  1.0     0.5\n",
       "6  1.0  0.0     1.0\n",
       "7  1.0  0.5     0.5\n",
       "8  1.0  1.0     0.0"
      ]
     },
     "execution_count": 18,
     "metadata": {},
     "output_type": "execute_result"
    }
   ],
   "source": [
    "ExecutionModel(model).generate_data_set([0, 0.5, 1])"
   ]
  },
  {
   "attachments": {},
   "cell_type": "markdown",
   "metadata": {},
   "source": [
    "## Export 2"
   ]
  },
  {
   "cell_type": "code",
   "execution_count": 22,
   "metadata": {},
   "outputs": [
    {
     "name": "stdout",
     "output_type": "stream",
     "text": [
      "004_logic_2_2.h5\n",
      "004_logic_4_2.h5\n",
      "004_logic_8_2.h5\n"
     ]
    }
   ],
   "source": [
    "def export_pure(variablesCount, random_state=None):\n",
    "  model = generate_model(variablesCount=variablesCount, random_state=random_state)\n",
    "  data = ExecutionModel(model).generate_data_set([0, 1])\n",
    "  \n",
    "  fileName = f'004_logic_{variablesCount}_2.h5'\n",
    "  model.to_hdf(fileName, \"model\", format=\"fixed\")\n",
    "  data.to_hdf(fileName, \"data\", format=\"fixed\")\n",
    "  print(fileName)\n",
    "\n",
    "export_pure(2, random_state=42)\n",
    "export_pure(4, random_state=42)\n",
    "export_pure(8, random_state=42)"
   ]
  },
  {
   "cell_type": "code",
   "execution_count": 13,
   "metadata": {},
   "outputs": [
    {
     "name": "stdout",
     "output_type": "stream",
     "text": [
      "004_logic_16_2.h5\n"
     ]
    }
   ],
   "source": [
    "export_pure(16, random_state=42)"
   ]
  },
  {
   "attachments": {},
   "cell_type": "markdown",
   "metadata": {},
   "source": [
    "## Export 3"
   ]
  },
  {
   "cell_type": "code",
   "execution_count": 5,
   "metadata": {},
   "outputs": [
    {
     "name": "stdout",
     "output_type": "stream",
     "text": [
      "004_logic_2_3.h5\n",
      "004_logic_4_3.h5\n",
      "004_logic_8_3.h5\n"
     ]
    }
   ],
   "source": [
    "def export_fuzzy(variablesCount, random_state=None):\n",
    "  model = generate_model(variablesCount=variablesCount, random_state=random_state)\n",
    "  data = ExecutionModel(model).generate_data_set([0, 0.5, 1])\n",
    "  \n",
    "  fileName = f'004_logic_{variablesCount}_3.h5'\n",
    "  model.to_hdf(fileName, \"model\", format=\"fixed\")\n",
    "  data.to_hdf(fileName, \"data\", format=\"fixed\")\n",
    "  print(fileName)\n",
    "\n",
    "export_fuzzy(2, random_state=42)\n",
    "export_fuzzy(4, random_state=42)\n",
    "export_fuzzy(8, random_state=42)"
   ]
  }
 ],
 "metadata": {
  "kernelspec": {
   "display_name": "Python 3 (ipykernel)",
   "language": "python",
   "name": "python3"
  },
  "language_info": {
   "codemirror_mode": {
    "name": "ipython",
    "version": 3
   },
   "file_extension": ".py",
   "mimetype": "text/x-python",
   "name": "python",
   "nbconvert_exporter": "python",
   "pygments_lexer": "ipython3",
   "version": "3.10.8"
  },
  "orig_nbformat": 4
 },
 "nbformat": 4,
 "nbformat_minor": 2
}
