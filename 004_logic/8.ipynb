{
 "cells": [
  {
   "cell_type": "code",
   "execution_count": 1,
   "metadata": {},
   "outputs": [],
   "source": [
    "import numpy as np\n",
    "import pandas as pd\n",
    "from sklearn.linear_model import LogisticRegression, SGDClassifier\n",
    "from sklearn.svm import SVC\n",
    "from sklearn.metrics.pairwise import manhattan_distances"
   ]
  },
  {
   "cell_type": "code",
   "execution_count": 20,
   "metadata": {},
   "outputs": [],
   "source": [
    "class LogicDataset:\n",
    "\n",
    "  def __init__(self, variablesCount, flavour):\n",
    "    fileName = f'004_logic_{variablesCount}_{flavour}.h5'\n",
    "    self.model = pd.read_hdf(fileName, \"model\")\n",
    "    self.dataset = pd.read_hdf(fileName, \"data\")\n",
    "    self.X = self.dataset.drop(\"result\", axis=1)\n",
    "    self.y = self.dataset[\"result\"].copy()\n",
    "\n",
    "data_2 = LogicDataset(8, 2)\n",
    "data_3 = LogicDataset(8, 3)"
   ]
  },
  {
   "attachments": {},
   "cell_type": "markdown",
   "metadata": {},
   "source": [
    "## Classical"
   ]
  },
  {
   "cell_type": "code",
   "execution_count": 7,
   "metadata": {},
   "outputs": [
    {
     "data": {
      "text/plain": [
       "72.0"
      ]
     },
     "execution_count": 7,
     "metadata": {},
     "output_type": "execute_result"
    }
   ],
   "source": [
    "clf_svc = SVC(kernel='rbf').fit(data_2.X, data_2.y)\n",
    "clf_svc_y = clf_svc.predict(data_2.X)\n",
    "manhattan_distances([data_2.y], [clf_svc_y])[0][0]"
   ]
  },
  {
   "cell_type": "code",
   "execution_count": 18,
   "metadata": {},
   "outputs": [
    {
     "name": "stdout",
     "output_type": "stream",
     "text": [
      "2: manhattan distance = 97.0\n",
      "3: manhattan distance = 62.0\n",
      "4: manhattan distance = 41.0\n",
      "5: manhattan distance = 16.0\n",
      "6: manhattan distance = 6.0\n",
      "7: manhattan distance = 4.0\n",
      "8: manhattan distance = 4.0\n",
      "9: manhattan distance = 4.0\n"
     ]
    }
   ],
   "source": [
    "for i in range(2, 10):\n",
    "  clf_svc_i = SVC(kernel='poly', degree=i).fit(data_2.X, data_2.y)\n",
    "  clf_svc_i_y = clf_svc_i.predict(data_2.X)\n",
    "  print(f'{i}: manhattan distance = {manhattan_distances([data_2.y], [clf_svc_i_y])[0][0]}')"
   ]
  },
  {
   "attachments": {},
   "cell_type": "markdown",
   "metadata": {},
   "source": [
    "## Fuzzy"
   ]
  },
  {
   "cell_type": "code",
   "execution_count": 21,
   "metadata": {},
   "outputs": [],
   "source": [
    "data_3_y = [1.0 if y == 1 else 0.0 for y in data_3.y]"
   ]
  },
  {
   "cell_type": "code",
   "execution_count": 22,
   "metadata": {},
   "outputs": [
    {
     "name": "stdout",
     "output_type": "stream",
     "text": [
      "2: manhattan distance = 126.0\n",
      "3: manhattan distance = 126.0\n",
      "4: manhattan distance = 126.0\n",
      "5: manhattan distance = 34.0\n",
      "6: manhattan distance = 17.0\n",
      "7: manhattan distance = 10.0\n",
      "8: manhattan distance = 4.0\n",
      "9: manhattan distance = 4.0\n"
     ]
    }
   ],
   "source": [
    "for i in range(2, 10):\n",
    "  clf_svc_i = SVC(kernel='poly', degree=i).fit(data_3.X, data_3_y)\n",
    "  clf_svc_i_y = clf_svc_i.predict(data_3.X)\n",
    "  print(f'{i}: manhattan distance = {manhattan_distances([data_3_y], [clf_svc_i_y])[0][0]}')"
   ]
  }
 ],
 "metadata": {
  "kernelspec": {
   "display_name": "Python 3 (ipykernel)",
   "language": "python",
   "name": "python3"
  },
  "language_info": {
   "codemirror_mode": {
    "name": "ipython",
    "version": 3
   },
   "file_extension": ".py",
   "mimetype": "text/x-python",
   "name": "python",
   "nbconvert_exporter": "python",
   "pygments_lexer": "ipython3",
   "version": "3.10.8"
  },
  "orig_nbformat": 4
 },
 "nbformat": 4,
 "nbformat_minor": 2
}
