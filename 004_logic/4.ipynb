{
 "cells": [
  {
   "cell_type": "code",
   "execution_count": 1,
   "metadata": {},
   "outputs": [],
   "source": [
    "import numpy as np\n",
    "import pandas as pd\n",
    "from sklearn.linear_model import LogisticRegression, SGDClassifier\n",
    "from sklearn.svm import SVC\n",
    "from sklearn.metrics.pairwise import manhattan_distances"
   ]
  },
  {
   "cell_type": "code",
   "execution_count": 19,
   "metadata": {},
   "outputs": [],
   "source": [
    "class LogicDataset:\n",
    "\n",
    "  def __init__(self, variablesCount, flavour):\n",
    "    fileName = f'004_logic_{variablesCount}_{flavour}.h5'\n",
    "    self.model = pd.read_hdf(fileName, \"model\")\n",
    "    self.dataset = pd.read_hdf(fileName, \"data\")\n",
    "    self.X = self.dataset.drop(\"result\", axis=1)\n",
    "    self.y = self.dataset[\"result\"].copy()\n",
    "\n",
    "data_2 = LogicDataset(4, 2)\n",
    "data_3 = LogicDataset(4, 3)"
   ]
  },
  {
   "cell_type": "code",
   "execution_count": 6,
   "metadata": {},
   "outputs": [],
   "source": [
    "def fitSGDClassfier(X, y, loss, max_iter=1000, n_iter_no_change=5):\n",
    "    sgd = SGDClassifier(\n",
    "        loss=loss, learning_rate=\"optimal\", \n",
    "        max_iter=max_iter, n_iter_no_change=n_iter_no_change, \n",
    "        shuffle=True, random_state=42, n_jobs=-1)\n",
    "    sgd.fit(X, y)\n",
    "    print(f'n_iter: {sgd.n_iter_}')\n",
    "    return sgd\n",
    "\n",
    "def print_preditions(X, y, y_pred):\n",
    "  print(f'{\"X\":15}| {\"y\":3}| {\"pred\":3}')\n",
    "  for i in range(0, len(data_2.X)):\n",
    "    print(f'{str(X.iloc[i].to_list()):15}| {str(y[i]):3}| {str(y_pred[i]):3}')"
   ]
  },
  {
   "cell_type": "code",
   "execution_count": 4,
   "metadata": {},
   "outputs": [
    {
     "data": {
      "text/html": [
       "<div>\n",
       "<style scoped>\n",
       "    .dataframe tbody tr th:only-of-type {\n",
       "        vertical-align: middle;\n",
       "    }\n",
       "\n",
       "    .dataframe tbody tr th {\n",
       "        vertical-align: top;\n",
       "    }\n",
       "\n",
       "    .dataframe thead th {\n",
       "        text-align: right;\n",
       "    }\n",
       "</style>\n",
       "<table border=\"1\" class=\"dataframe\">\n",
       "  <thead>\n",
       "    <tr style=\"text-align: right;\">\n",
       "      <th></th>\n",
       "      <th>1_1_1_1</th>\n",
       "      <th>1_1_1_2</th>\n",
       "      <th>1_1_2_1</th>\n",
       "      <th>1_1_2_2</th>\n",
       "      <th>1_2_1_1</th>\n",
       "      <th>1_2_1_2</th>\n",
       "      <th>1_2_2_1</th>\n",
       "      <th>1_2_2_2</th>\n",
       "      <th>2_1_1_1</th>\n",
       "      <th>2_1_1_2</th>\n",
       "      <th>2_1_2_1</th>\n",
       "      <th>2_1_2_2</th>\n",
       "      <th>2_2_1_1</th>\n",
       "      <th>2_2_1_2</th>\n",
       "      <th>2_2_2_1</th>\n",
       "      <th>2_2_2_2</th>\n",
       "    </tr>\n",
       "  </thead>\n",
       "  <tbody>\n",
       "    <tr>\n",
       "      <th>0</th>\n",
       "      <td>0</td>\n",
       "      <td>1</td>\n",
       "      <td>1</td>\n",
       "      <td>0</td>\n",
       "      <td>0</td>\n",
       "      <td>1</td>\n",
       "      <td>0</td>\n",
       "      <td>1</td>\n",
       "      <td>0</td>\n",
       "      <td>0</td>\n",
       "      <td>1</td>\n",
       "      <td>1</td>\n",
       "      <td>1</td>\n",
       "      <td>1</td>\n",
       "      <td>1</td>\n",
       "      <td>1</td>\n",
       "    </tr>\n",
       "  </tbody>\n",
       "</table>\n",
       "</div>"
      ],
      "text/plain": [
       "   1_1_1_1  1_1_1_2  1_1_2_1  1_1_2_2  1_2_1_1  1_2_1_2  1_2_2_1  1_2_2_2  \\\n",
       "0        0        1        1        0        0        1        0        1   \n",
       "\n",
       "   2_1_1_1  2_1_1_2  2_1_2_1  2_1_2_2  2_2_1_1  2_2_1_2  2_2_2_1  2_2_2_2  \n",
       "0        0        0        1        1        1        1        1        1  "
      ]
     },
     "execution_count": 4,
     "metadata": {},
     "output_type": "execute_result"
    }
   ],
   "source": [
    "data_2.model"
   ]
  },
  {
   "attachments": {},
   "cell_type": "markdown",
   "metadata": {},
   "source": [
    "## Classical"
   ]
  },
  {
   "cell_type": "code",
   "execution_count": 15,
   "metadata": {},
   "outputs": [
    {
     "name": "stdout",
     "output_type": "stream",
     "text": [
      "X              | y  | pred\n",
      "[0, 0, 0, 0]   | 1  | 1 (0.832444619195386)\n",
      "[0, 0, 0, 1]   | 1  | 1 (0.7453054763976655)\n",
      "[0, 0, 1, 0]   | 1  | 1 (0.7453054763976655)\n",
      "[0, 0, 1, 1]   | 1  | 1 (0.6328367251262011)\n",
      "[0, 1, 0, 0]   | 1  | 1 (0.7453054763976655)\n",
      "[0, 1, 0, 1]   | 1  | 1 (0.6328367251262011)\n",
      "[0, 1, 1, 0]   | 0  | 1 (0.6328367251262011)\n",
      "[0, 1, 1, 1]   | 0  | 1 (0.5037705116288859)\n",
      "[1, 0, 0, 0]   | 1  | 1 (0.7453054763976655)\n",
      "[1, 0, 0, 1]   | 0  | 1 (0.6328367251262011)\n",
      "[1, 0, 1, 0]   | 1  | 1 (0.6328367251262011)\n",
      "[1, 0, 1, 1]   | 0  | 1 (0.5037705116288859)\n",
      "[1, 1, 0, 0]   | 0  | 1 (0.6328367251262011)\n",
      "[1, 1, 0, 1]   | 1  | 1 (0.5037705116288859)\n",
      "[1, 1, 1, 0]   | 1  | 1 (0.5037705116288859)\n",
      "[1, 1, 1, 1]   | 0  | 0 (0.3741998293635806)\n"
     ]
    }
   ],
   "source": [
    "clf_log = LogisticRegression(random_state=42, solver='lbfgs').fit(data_2.X, data_2.y)\n",
    "clf_log_y = clf_log.predict(data_2.X)\n",
    "clf_log_py = clf_log.predict_proba(data_2.X)\n",
    "print_preditions(data_2.X, data_2.y, [f'{clf_log_y[i]} ({clf_log_py[i][1]})' for i in range(0, len(clf_log_y))] )"
   ]
  },
  {
   "cell_type": "code",
   "execution_count": 8,
   "metadata": {},
   "outputs": [
    {
     "name": "stdout",
     "output_type": "stream",
     "text": [
      "n_iter: 10\n",
      "X              | y  | pred\n",
      "[0, 0, 0, 0]   | 1  | 1  \n",
      "[0, 0, 0, 1]   | 1  | 1  \n",
      "[0, 0, 1, 0]   | 1  | 1  \n",
      "[0, 0, 1, 1]   | 1  | 1  \n",
      "[0, 1, 0, 0]   | 1  | 1  \n",
      "[0, 1, 0, 1]   | 1  | 0  \n",
      "[0, 1, 1, 0]   | 0  | 0  \n",
      "[0, 1, 1, 1]   | 0  | 0  \n",
      "[1, 0, 0, 0]   | 1  | 1  \n",
      "[1, 0, 0, 1]   | 0  | 1  \n",
      "[1, 0, 1, 0]   | 1  | 1  \n",
      "[1, 0, 1, 1]   | 0  | 0  \n",
      "[1, 1, 0, 0]   | 0  | 0  \n",
      "[1, 1, 0, 1]   | 1  | 0  \n",
      "[1, 1, 1, 0]   | 1  | 0  \n",
      "[1, 1, 1, 1]   | 0  | 0  \n"
     ]
    }
   ],
   "source": [
    "clf_sgd = fitSGDClassfier(data_2.X, data_2.y, loss='hinge')\n",
    "clf_sgd_y = clf_sgd.predict(data_2.X)\n",
    "print_preditions(data_2.X, data_2.y, clf_sgd_y)"
   ]
  },
  {
   "cell_type": "code",
   "execution_count": 16,
   "metadata": {},
   "outputs": [
    {
     "data": {
      "text/plain": [
       "1.0"
      ]
     },
     "execution_count": 16,
     "metadata": {},
     "output_type": "execute_result"
    }
   ],
   "source": [
    "clf_svc = SVC(kernel='rbf').fit(data_2.X, data_2.y)\n",
    "clf_svc_y = clf_svc.predict(data_2.X)\n",
    "manhattan_distances([data_2.y], [clf_svc_y])[0][0]"
   ]
  },
  {
   "cell_type": "code",
   "execution_count": 17,
   "metadata": {},
   "outputs": [
    {
     "data": {
      "text/plain": [
       "1.0"
      ]
     },
     "execution_count": 17,
     "metadata": {},
     "output_type": "execute_result"
    }
   ],
   "source": [
    "clf_svc2 = SVC(kernel='poly', degree=2).fit(data_2.X, data_2.y)\n",
    "clf_svc2_y = clf_svc2.predict(data_2.X)\n",
    "manhattan_distances([data_2.y], [clf_svc2_y])[0][0]"
   ]
  },
  {
   "cell_type": "code",
   "execution_count": 18,
   "metadata": {},
   "outputs": [
    {
     "data": {
      "text/plain": [
       "0.0"
      ]
     },
     "execution_count": 18,
     "metadata": {},
     "output_type": "execute_result"
    }
   ],
   "source": [
    "clf_svc3 = SVC(kernel='poly', degree=3).fit(data_2.X, data_2.y)\n",
    "clf_svc3_y = clf_svc3.predict(data_2.X)\n",
    "manhattan_distances([data_2.y], [clf_svc3_y])[0][0]"
   ]
  },
  {
   "attachments": {},
   "cell_type": "markdown",
   "metadata": {},
   "source": [
    "## Fuzzy"
   ]
  },
  {
   "cell_type": "code",
   "execution_count": 29,
   "metadata": {},
   "outputs": [],
   "source": [
    "data_3_y = [1.0 if y == 1 else 0.0 for y in data_3.y]"
   ]
  },
  {
   "cell_type": "code",
   "execution_count": 30,
   "metadata": {},
   "outputs": [
    {
     "data": {
      "text/plain": [
       "10.0"
      ]
     },
     "execution_count": 30,
     "metadata": {},
     "output_type": "execute_result"
    }
   ],
   "source": [
    "clf_svc_3 = SVC(kernel='rbf').fit(data_3.X, data_3_y)\n",
    "clf_svc_3_y = clf_svc_3.predict(data_3.X)\n",
    "manhattan_distances([data_3_y], [clf_svc_3_y])[0][0]"
   ]
  },
  {
   "cell_type": "code",
   "execution_count": 31,
   "metadata": {},
   "outputs": [
    {
     "name": "stdout",
     "output_type": "stream",
     "text": [
      "2: manhattan distance = 10.0\n",
      "3: manhattan distance = 9.0\n",
      "4: manhattan distance = 5.0\n",
      "5: manhattan distance = 3.0\n",
      "6: manhattan distance = 1.0\n",
      "7: manhattan distance = 1.0\n",
      "8: manhattan distance = 1.0\n",
      "9: manhattan distance = 1.0\n"
     ]
    }
   ],
   "source": [
    "for i in range(2, 10):\n",
    "  clf_svc_i = SVC(kernel='poly', degree=i).fit(data_3.X, data_3_y)\n",
    "  clf_svc_i_y = clf_svc_i.predict(data_3.X)\n",
    "  print(f'{i}: manhattan distance = {manhattan_distances([data_3_y], [clf_svc_i_y])[0][0]}')"
   ]
  }
 ],
 "metadata": {
  "kernelspec": {
   "display_name": "Python 3 (ipykernel)",
   "language": "python",
   "name": "python3"
  },
  "language_info": {
   "codemirror_mode": {
    "name": "ipython",
    "version": 3
   },
   "file_extension": ".py",
   "mimetype": "text/x-python",
   "name": "python",
   "nbconvert_exporter": "python",
   "pygments_lexer": "ipython3",
   "version": "3.10.8"
  },
  "orig_nbformat": 4
 },
 "nbformat": 4,
 "nbformat_minor": 2
}
