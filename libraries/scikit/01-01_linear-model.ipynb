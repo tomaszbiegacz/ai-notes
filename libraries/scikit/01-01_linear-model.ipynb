{
 "cells": [
  {
   "attachments": {},
   "cell_type": "markdown",
   "metadata": {},
   "source": [
    "Following <https://scikit-learn.org/stable/modules/linear_model.html>"
   ]
  },
  {
   "cell_type": "code",
   "execution_count": 34,
   "metadata": {
    "vscode": {
     "languageId": "python"
    }
   },
   "outputs": [],
   "source": [
    "from sklearn.linear_model import LinearRegression, Ridge, Lasso, LassoLars\n",
    "from sklearn.metrics import mean_squared_error\n",
    "\n",
    "def fit(reg, Xy):\n",
    "  x = Xy['X']\n",
    "  y = Xy['y']\n",
    "  reg.fit(x, y)\n",
    "  print('coef_: ', reg.coef_)\n",
    "\n",
    "  pred = reg.predict(x)\n",
    "  print(\"mse: %.2f\" % mean_squared_error(y, pred))"
   ]
  },
  {
   "cell_type": "code",
   "execution_count": 24,
   "metadata": {
    "vscode": {
     "languageId": "python"
    }
   },
   "outputs": [],
   "source": [
    "Xy = [\n",
    "  { 'X': [[0, 0], [1, 1], [2, 2]], 'y': [0, 1, 2] },\n",
    "  { 'X': [[0, 0], [0, 0], [1, 1]], 'y': [0, .1, 1] }\n",
    "]\n",
    " "
   ]
  },
  {
   "attachments": {
    "image.png": {
     "image/png": "[encoded data removed]"
    }
   },
   "cell_type": "markdown",
   "metadata": {},
   "source": [
    "## Ordinary Least Squares\n",
    "\n",
    "![image.png](attachment:image.png)\n",
    "- The coefficient estimates for Ordinary Least Squares rely on the independence of the features."
   ]
  },
  {
   "cell_type": "code",
   "execution_count": 23,
   "metadata": {
    "vscode": {
     "languageId": "python"
    }
   },
   "outputs": [
    {
     "name": "stdout",
     "output_type": "stream",
     "text": [
      "coef_:  [0.5 0.5]\n",
      "mse: 0.00\n"
     ]
    }
   ],
   "source": [
    "fit(LinearRegression(), Xy[0])"
   ]
  },
  {
   "cell_type": "code",
   "execution_count": 25,
   "metadata": {
    "vscode": {
     "languageId": "python"
    }
   },
   "outputs": [
    {
     "name": "stdout",
     "output_type": "stream",
     "text": [
      "coef_:  [0.475 0.475]\n",
      "mse: 0.00\n"
     ]
    }
   ],
   "source": [
    "fit(LinearRegression(), Xy[1])"
   ]
  },
  {
   "attachments": {
    "image.png": {
     "image/png": "[encoded data removed]"
    }
   },
   "cell_type": "markdown",
   "metadata": {},
   "source": [
    "## Ridge regression and classification\n",
    "![image.png](attachment:image.png)\n"
   ]
  },
  {
   "cell_type": "code",
   "execution_count": 27,
   "metadata": {
    "vscode": {
     "languageId": "python"
    }
   },
   "outputs": [
    {
     "name": "stdout",
     "output_type": "stream",
     "text": [
      "coef_:  [0.44444444 0.44444444]\n",
      "mse: 0.01\n"
     ]
    }
   ],
   "source": [
    "fit(Ridge(alpha=.5), Xy[0])"
   ]
  },
  {
   "cell_type": "code",
   "execution_count": 28,
   "metadata": {
    "vscode": {
     "languageId": "python"
    }
   },
   "outputs": [
    {
     "name": "stdout",
     "output_type": "stream",
     "text": [
      "coef_:  [0.41666667 0.41666667]\n",
      "mse: 0.02\n"
     ]
    }
   ],
   "source": [
    "fit(Ridge(alpha=.8), Xy[0])"
   ]
  },
  {
   "cell_type": "code",
   "execution_count": 29,
   "metadata": {
    "vscode": {
     "languageId": "python"
    }
   },
   "outputs": [
    {
     "name": "stdout",
     "output_type": "stream",
     "text": [
      "coef_:  [0.47619048 0.47619048]\n",
      "mse: 0.00\n"
     ]
    }
   ],
   "source": [
    "fit(Ridge(alpha=.2), Xy[0])"
   ]
  },
  {
   "attachments": {
    "image.png": {
     "image/png": "[encoded data removed]"
    }
   },
   "cell_type": "markdown",
   "metadata": {},
   "source": [
    "## Lasso\n",
    "![image.png](attachment:image.png)\n",
    "\n",
    "- It is useful in some contexts due to its tendency to prefer solutions with fewer non-zero coefficients, effectively reducing the number of features upon which the given solution is dependent."
   ]
  },
  {
   "cell_type": "code",
   "execution_count": 31,
   "metadata": {
    "vscode": {
     "languageId": "python"
    }
   },
   "outputs": [
    {
     "name": "stdout",
     "output_type": "stream",
     "text": [
      "coef_:  [0.25 0.  ]\n",
      "mse: 0.38\n"
     ]
    }
   ],
   "source": [
    "fit(Lasso(alpha=.5), Xy[0])"
   ]
  },
  {
   "cell_type": "code",
   "execution_count": 32,
   "metadata": {
    "vscode": {
     "languageId": "python"
    }
   },
   "outputs": [
    {
     "name": "stdout",
     "output_type": "stream",
     "text": [
      "coef_:  [0.7 0. ]\n",
      "mse: 0.06\n"
     ]
    }
   ],
   "source": [
    "fit(Lasso(alpha=.2), Xy[0])"
   ]
  },
  {
   "attachments": {
    "image.png": {
     "image/png": "[encoded data removed]"
    }
   },
   "cell_type": "markdown",
   "metadata": {},
   "source": [
    "## Elastic-Net\n",
    "![image.png](attachment:image.png)\n",
    "\n",
    "- ElasticNet is a linear regression model trained with both l1 and l2-norm regularization of the coefficients. This combination allows for learning a sparse model where few of the weights are non-zero like Lasso, while still maintaining the regularization properties of Ridge. \n",
    "- Elastic-net is useful when there are multiple features that are correlated with one another. Lasso is likely to pick one of these at random, while elastic-net is likely to pick both.\n"
   ]
  },
  {
   "attachments": {},
   "cell_type": "markdown",
   "metadata": {},
   "source": [
    "## Least Angle Regression\n",
    "\n",
    "At each step, it finds the feature most correlated with the target. When there are multiple features having equal correlation, instead of continuing along the same feature, it proceeds in a direction equiangular between the features.\n",
    "\n",
    "- It is numerically efficient in contexts where the number of features is significantly greater than the number of samples.\n",
    "- Because LARS is based upon an iterative refitting of the residuals, it would appear to be especially sensitive to the effects of noise."
   ]
  },
  {
   "cell_type": "code",
   "execution_count": 35,
   "metadata": {
    "vscode": {
     "languageId": "python"
    }
   },
   "outputs": [
    {
     "name": "stdout",
     "output_type": "stream",
     "text": [
      "coef_:  [0.25 0.  ]\n",
      "mse: 0.38\n"
     ]
    }
   ],
   "source": [
    "fit(LassoLars(alpha=.5), Xy[0])"
   ]
  },
  {
   "cell_type": "code",
   "execution_count": 36,
   "metadata": {
    "vscode": {
     "languageId": "python"
    }
   },
   "outputs": [
    {
     "name": "stdout",
     "output_type": "stream",
     "text": [
      "coef_:  [0.7 0. ]\n",
      "mse: 0.06\n"
     ]
    }
   ],
   "source": [
    "fit(Lasso(alpha=.2), Xy[0])"
   ]
  },
  {
   "attachments": {},
   "cell_type": "markdown",
   "metadata": {},
   "source": [
    "## Bayesian Regression"
   ]
  }
 ],
 "metadata": {
  "kernelspec": {
   "display_name": "Python 3 (ipykernel)",
   "language": "python",
   "name": "python3"
  },
  "orig_nbformat": 4
 },
 "nbformat": 4,
 "nbformat_minor": 2
}
